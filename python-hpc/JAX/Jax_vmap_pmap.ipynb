{
 "cells": [
  {
   "cell_type": "markdown",
   "id": "49d46a8a-9986-40e0-a69b-98e94c70ba42",
   "metadata": {},
   "source": [
    "# Vectorizing and Parallelizing"
   ]
  },
  {
   "cell_type": "code",
   "execution_count": null,
   "id": "f48951b6-cfe7-4822-a222-85f56c82a09d",
   "metadata": {},
   "outputs": [],
   "source": [
    "import jax\n",
    "import jax.numpy as jnp"
   ]
  },
  {
   "cell_type": "markdown",
   "id": "baced623-d4ad-499d-b8c5-8825f2ef27d3",
   "metadata": {},
   "source": [
    "## Vectorization using `vmap`"
   ]
  },
  {
   "cell_type": "markdown",
   "id": "076115c7-6fa5-4141-8046-5375d7925c17",
   "metadata": {},
   "source": [
    "#### Simple function to calculate the cosine of the angle between two vectors"
   ]
  },
  {
   "cell_type": "code",
   "execution_count": null,
   "id": "7112544a-05df-447f-b341-662f3a2172a4",
   "metadata": {},
   "outputs": [],
   "source": [
    "def vector_cos(x, y):\n",
    "    return jnp.dot(x, y) / (jnp.linalg.norm(x) * jnp.linalg.norm(y))"
   ]
  },
  {
   "cell_type": "code",
   "execution_count": null,
   "id": "2328004a-6eeb-40ff-bcb8-c5d83eaed3bb",
   "metadata": {},
   "outputs": [],
   "source": [
    "x = jnp.array([1.0, 0.0, 0.0])\n",
    "y = jnp.array([0.0, 1.0, 0.0])\n",
    "p = jnp.array([1.0, 1.0, 0.0])\n",
    "\n",
    "print(f'The cosine of the angle between x, y is: {vector_cos(x, y)}')\n",
    "print(f'The cosine of the angle between x, p is: {vector_cos(x, p):1.2f}')"
   ]
  },
  {
   "cell_type": "code",
   "execution_count": null,
   "id": "6be97a56-3277-4985-9f8a-65a479af361e",
   "metadata": {},
   "outputs": [],
   "source": [
    "%timeit vector_cos(x, y)"
   ]
  },
  {
   "cell_type": "markdown",
   "id": "5078da18-e115-4dc2-a808-85a364bb5379",
   "metadata": {},
   "source": [
    "#### What if we want to calculate the cosine of the array between multiple vector pairs?"
   ]
  },
  {
   "cell_type": "code",
   "execution_count": null,
   "id": "cc5a1ef1-4c82-4694-bcf7-3dba02d66e71",
   "metadata": {},
   "outputs": [],
   "source": [
    "seed = 42\n",
    "random_key = jax.random.PRNGKey(seed)\n",
    "\n",
    "key1, key2 = jax.random.split(random_key, 2)\n",
    "\n",
    "X = jax.random.uniform(key1, shape=(20000, 3))\n",
    "Y = jax.random.uniform(key2, shape=(20000, 3))"
   ]
  },
  {
   "cell_type": "markdown",
   "id": "bcc8b01f-98f4-4ea5-87fc-4471d400961d",
   "metadata": {},
   "source": [
    "#### This is where `vmap` becomes useful, it vectorizes a function to work with \"vectors\" of it's arguments"
   ]
  },
  {
   "cell_type": "code",
   "execution_count": null,
   "id": "85df6935-358d-4e04-964e-6de1b3fab0ae",
   "metadata": {},
   "outputs": [],
   "source": [
    "# Vectorize the function\n",
    "vector_cos_vmapped = jax.vmap(vector_cos) \n",
    "\n",
    "xy_cos = vector_cos_vmapped(X, Y)\n",
    "print(f'The shape of the resulting array is: {xy_cos.shape}')"
   ]
  },
  {
   "cell_type": "markdown",
   "id": "4d8e2849-e3ee-4a43-9987-0fcf4038597c",
   "metadata": {},
   "source": [
    "#### <mark>Hands-on</mark>: time the computation and time it also after jitting it"
   ]
  },
  {
   "cell_type": "markdown",
   "id": "4bde840c-f9d2-4dfb-85d5-2de5bd3ce7ac",
   "metadata": {},
   "source": [
    "### `vmap` will assume that the first dimension of the arguments is the one to vectorize. The behavior can be explicitely controlled using `in_axes`"
   ]
  },
  {
   "cell_type": "code",
   "execution_count": null,
   "id": "3d13c45a-f496-4e40-8b6f-6cd825e75100",
   "metadata": {},
   "outputs": [],
   "source": [
    "key3, key4 = jax.random.split(key1, 2)\n",
    "\n",
    "Z = jax.random.uniform(key3, shape=(20000, 3))\n",
    "P = jax.random.uniform(key4, shape=(3, 20000))"
   ]
  },
  {
   "cell_type": "code",
   "execution_count": null,
   "id": "cddc3257-ddc4-444f-b5c2-3773ec2c8230",
   "metadata": {},
   "outputs": [],
   "source": [
    "vector_cos_vmapped2 = jax.vmap(vector_cos, in_axes=(0, 1))"
   ]
  },
  {
   "cell_type": "code",
   "execution_count": null,
   "id": "ed4a71b8-6aaa-4e79-a0c7-2b355088157a",
   "metadata": {},
   "outputs": [],
   "source": [
    "zp_cos = vector_cos_vmapped2(Z, P)\n",
    "print(f'The shape of the resulting array is: {xy_cos.shape}')"
   ]
  },
  {
   "cell_type": "markdown",
   "id": "57ddec1b-1b15-4560-9e8b-e97bef35be46",
   "metadata": {},
   "source": [
    "## Parallelization using `pmap`"
   ]
  },
  {
   "cell_type": "markdown",
   "id": "e346cbfe-9b8f-4b58-a18f-23d52f05d976",
   "metadata": {},
   "source": [
    "#### Up to know everything used a single GPU to carry out the computations. We can use `pmap` to parallelize them"
   ]
  },
  {
   "cell_type": "code",
   "execution_count": null,
   "id": "53c51ad3-6dcf-4b86-b4a0-c9d6493c7057",
   "metadata": {},
   "outputs": [],
   "source": [
    "key5, key6 = jax.random.split(key3, 2)\n",
    "\n",
    "L = jax.random.uniform(key5, shape=(len(jax.devices('gpu')), 2000000))\n",
    "M = jax.random.uniform(key6, shape=(len(jax.devices('gpu')), 2000000))"
   ]
  },
  {
   "cell_type": "code",
   "execution_count": null,
   "id": "edcf7a9e-e963-49e5-850b-b93a41602034",
   "metadata": {},
   "outputs": [],
   "source": [
    "print(L.shape)"
   ]
  },
  {
   "cell_type": "code",
   "execution_count": null,
   "id": "f6806af7-251f-4a7e-a3c8-eab3c493895d",
   "metadata": {},
   "outputs": [],
   "source": [
    "vector_cos_pmapped = jax.pmap(vector_cos)"
   ]
  },
  {
   "cell_type": "code",
   "execution_count": null,
   "id": "f5d7c3b1-f8d4-496d-84ff-ca54f64d28f1",
   "metadata": {},
   "outputs": [],
   "source": [
    "vector_cos_pmapped(L, M)"
   ]
  },
  {
   "cell_type": "markdown",
   "id": "0fdb57a9-46f9-4e70-8f8e-cc7d3e4544c2",
   "metadata": {},
   "source": [
    "#### The idea is similar to `vmap` but now the computation is spread across devices. We can even combine with `vmap`."
   ]
  },
  {
   "cell_type": "code",
   "execution_count": null,
   "id": "ee9508d1-23ae-403e-a395-568b0de8bd31",
   "metadata": {},
   "outputs": [],
   "source": [
    "vector_cos_pvmapped = jax.pmap(vector_cos_vmapped)\n",
    "\n",
    "\n",
    "XX = X.reshape(4, -1, 3)\n",
    "YY = Y.reshape(4, -1, 3)\n",
    "\n",
    "xy_cos_p = vector_cos_pvmapped(XX, YY)"
   ]
  },
  {
   "cell_type": "markdown",
   "id": "283646e6-387c-43a3-a2ac-3a6ebd96610b",
   "metadata": {},
   "source": [
    "#### Check the result"
   ]
  },
  {
   "cell_type": "code",
   "execution_count": null,
   "id": "81d6d0ec-1ae1-4c59-b10a-dd43b27a0ce7",
   "metadata": {},
   "outputs": [],
   "source": [
    "jnp.allclose(xy_cos_p.reshape(20000), xy_cos)"
   ]
  },
  {
   "cell_type": "markdown",
   "id": "e7f5cec9-5a70-4d95-a995-f31d2f2abb27",
   "metadata": {},
   "source": [
    "#### <mark>Hands-on</mark>: time the computation and run for increasing number of vectors. Check also the device on which the result resides"
   ]
  }
 ],
 "metadata": {
  "kernelspec": {
   "display_name": "Python 3 (ipykernel)",
   "language": "python",
   "name": "python3"
  },
  "language_info": {
   "codemirror_mode": {
    "name": "ipython",
    "version": 3
   },
   "file_extension": ".py",
   "mimetype": "text/x-python",
   "name": "python",
   "nbconvert_exporter": "python",
   "pygments_lexer": "ipython3",
   "version": "3.12.3"
  }
 },
 "nbformat": 4,
 "nbformat_minor": 5
}
