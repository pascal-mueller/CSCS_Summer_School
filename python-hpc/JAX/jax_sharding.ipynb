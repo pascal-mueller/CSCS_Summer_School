{
 "cells": [
  {
   "cell_type": "markdown",
   "id": "49d46a8a-9986-40e0-a69b-98e94c70ba42",
   "metadata": {},
   "source": [
    "# Distributed Arrays with JAX"
   ]
  },
  {
   "cell_type": "code",
   "execution_count": null,
   "id": "f48951b6-cfe7-4822-a222-85f56c82a09d",
   "metadata": {},
   "outputs": [],
   "source": [
    "import jax\n",
    "import numpy as np"
   ]
  },
  {
   "cell_type": "code",
   "execution_count": null,
   "id": "7112544a-05df-447f-b341-662f3a2172a4",
   "metadata": {},
   "outputs": [],
   "source": [
    "gpus = jax.devices('gpu')"
   ]
  },
  {
   "cell_type": "code",
   "execution_count": null,
   "id": "cc5a1ef1-4c82-4694-bcf7-3dba02d66e71",
   "metadata": {},
   "outputs": [],
   "source": [
    "for i, d in enumerate(gpus):\n",
    "    print(f\"Device {i}: {d}\")"
   ]
  },
  {
   "cell_type": "code",
   "execution_count": null,
   "id": "85df6935-358d-4e04-964e-6de1b3fab0ae",
   "metadata": {},
   "outputs": [],
   "source": [
    "jax.local_device_count()"
   ]
  },
  {
   "cell_type": "markdown",
   "id": "0fbec9db-f06a-4855-9b60-b77a26841ffd",
   "metadata": {},
   "source": [
    "### `Sharding` describes how array values are laid out in memory across devices"
   ]
  },
  {
   "cell_type": "code",
   "execution_count": null,
   "id": "165ca796-8fe0-47d6-8c5b-4172f20fb156",
   "metadata": {},
   "outputs": [],
   "source": [
    "mesh = jax.sharding.Mesh(jax.devices(), axis_names=['x'])"
   ]
  },
  {
   "cell_type": "code",
   "execution_count": null,
   "id": "e5a82436-9ebe-400b-9aaa-7427f78faa0f",
   "metadata": {},
   "outputs": [],
   "source": [
    "x = jax.random.normal(jax.random.key(0), (16000, 16000))"
   ]
  },
  {
   "cell_type": "code",
   "execution_count": null,
   "id": "cfa4cecd-bc2b-4147-98ac-954da7b192b7",
   "metadata": {},
   "outputs": [],
   "source": [
    "y = jax.device_put(x, jax.sharding.NamedSharding(mesh, jax.sharding.PartitionSpec('x', None)))"
   ]
  },
  {
   "cell_type": "code",
   "execution_count": null,
   "id": "174aeb88-ff97-4efa-8225-172e3d4ba0f1",
   "metadata": {},
   "outputs": [],
   "source": [
    "y.sum(axis=0)"
   ]
  },
  {
   "cell_type": "code",
   "execution_count": null,
   "id": "c506849e-5751-48fc-a1c0-c61b031b3624",
   "metadata": {
    "scrolled": true
   },
   "outputs": [],
   "source": [
    "jax.debug.visualize_array_sharding(y)"
   ]
  },
  {
   "cell_type": "code",
   "execution_count": null,
   "id": "706f7491-f51f-4154-9dd4-2536f6eefd03",
   "metadata": {},
   "outputs": [],
   "source": [
    "@jax.jit\n",
    "def my_complex_sin(z):\n",
    "    y = jax.numpy.sin(z) + jax.numpy.cos(z) + z ** 2\n",
    "\n",
    "    return y.sum(axis=0)"
   ]
  },
  {
   "cell_type": "code",
   "execution_count": null,
   "id": "a088c424-d991-4d68-bc6d-4fef4bed0044",
   "metadata": {},
   "outputs": [],
   "source": [
    "%time z = my_complex_sin(x).block_until_ready()"
   ]
  },
  {
   "cell_type": "code",
   "execution_count": null,
   "id": "1df3c3d0-4512-4605-8760-0eb6e032b981",
   "metadata": {},
   "outputs": [],
   "source": [
    "%time z2 = my_complex_sin(y).block_until_ready()"
   ]
  },
  {
   "cell_type": "code",
   "execution_count": null,
   "id": "b52dc427-85ce-47d3-8ccc-666bb66936a8",
   "metadata": {},
   "outputs": [],
   "source": [
    "z2.sharding"
   ]
  },
  {
   "cell_type": "markdown",
   "id": "ad29ec1c-af00-44ad-be34-5e63246a0e10",
   "metadata": {},
   "source": [
    "### JAX takes sharding into account when performing computations"
   ]
  },
  {
   "cell_type": "markdown",
   "id": "64505acc-0851-4477-ae62-f4456279f067",
   "metadata": {},
   "source": [
    "#### <mark>Hands-on:</mark> Perform some standard array operations (e.g Matrix-Matrix Multiplication), compare the execution with non-sharded arrays and check the resulting array sharding."
   ]
  }
 ],
 "metadata": {
  "kernelspec": {
   "display_name": "Python 3 (ipykernel)",
   "language": "python",
   "name": "python3"
  },
  "language_info": {
   "codemirror_mode": {
    "name": "ipython",
    "version": 3
   },
   "file_extension": ".py",
   "mimetype": "text/x-python",
   "name": "python",
   "nbconvert_exporter": "python",
   "pygments_lexer": "ipython3",
   "version": "3.12.3"
  }
 },
 "nbformat": 4,
 "nbformat_minor": 5
}
