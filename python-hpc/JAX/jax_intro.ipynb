{
 "cells": [
  {
   "cell_type": "markdown",
   "id": "a91a759c",
   "metadata": {
    "tags": []
   },
   "source": [
    "# Introduction to [JAX](https://github.com/google/jax) \n",
    "# A Python library for accelerator-oriented array computation and program transformation\n",
    "\n",
    "<div align=\"center\"><img src=\"https://raw.githubusercontent.com/google/jax/main/images/jax_logo.svg\" width=\"400\"/></div>"
   ]
  },
  {
   "cell_type": "markdown",
   "id": "6f4fa1cb",
   "metadata": {},
   "source": [
    "## NumPy functionality with JAX"
   ]
  },
  {
   "cell_type": "code",
   "execution_count": null,
   "id": "aae3e5a7",
   "metadata": {},
   "outputs": [],
   "source": [
    "import os\n",
    "import numpy as np\n",
    "import jax.numpy as jnp\n",
    "import jax\n",
    "import matplotlib.pyplot as plt"
   ]
  },
  {
   "cell_type": "code",
   "execution_count": null,
   "id": "1b74fbce",
   "metadata": {},
   "outputs": [],
   "source": [
    "x = jnp.arange(10)\n",
    "y = jnp.arange(10, 20)\n",
    "z = x + y"
   ]
  },
  {
   "cell_type": "markdown",
   "id": "07acf5d8",
   "metadata": {},
   "source": [
    "#### Euclidean distance matrix\n",
    "\n",
    "$\n",
    "    d_e(\\mathbf x, \\mathbf y) =\n",
    "    \\begin{bmatrix}\n",
    "    \\sum_{i=1}^n (x_{1i}-y_{1i})^2 & \\sum_{i=1}^n(x_{1i}-y_{2i})^2 & \\cdots & \\sum_{i=1}^n (x_{1i}-y_{ni})^2 \\\\  \n",
    "    \\sum_{i=1}^n(x_{2i}-y_{1i})^2 & \\sum_{i=1}^n(x_{2i}-y_{2i})^2 & \\cdots & \\sum_{i=1}^n(x_{2i}-y_{ni})^2 \\\\  \n",
    "    \\vdots & \\vdots & \\ddots & \\vdots \\\\\n",
    "    \\sum_{i=1}^n(x_{ni}-y_{1i})^2 & \\sum_{i=1}^n(x_{ni}-y_{2i})^2 & \\cdots & \\sum_{i=1}^n(x_{ni}-y_{ni})^2 \\\\  \n",
    "    \\end{bmatrix}\n",
    "$\n",
    "\n",
    "#### Vectorization friendly summation \n",
    "$ \n",
    "\\sum_{k=1}^n \\left(x_{ik}-y_{jk}\\right)^2 = \\left(\\vec{x_i} - \\vec {y_j}\\right)\\cdot \\left(\\vec{x_i} - \\vec{y_j}\\right)=\\vec{x_i} \\cdot \\vec{x_i} + \\vec{y_j} \\cdot \\vec{y_j} -2\\vec{x_i}\\cdot \\vec{y_j}$\n"
   ]
  },
  {
   "cell_type": "code",
   "execution_count": null,
   "id": "f3f941dc",
   "metadata": {},
   "outputs": [],
   "source": [
    "def euclidean_distance_cpu(x, y):\n",
    "    x2 = np.einsum('ij,ij->i', x, x)[:, np.newaxis]\n",
    "    y2 = np.einsum('ij,ij->i', y, y)[np.newaxis, :]\n",
    "    xy = x @ y.T\n",
    "    return np.abs(x2 + y2 - 2.0 * xy)\n",
    "\n",
    "def euclidean_distance_jax(x, y):\n",
    "    x2 = jnp.einsum('ij,ij->i', x, x)[:, jnp.newaxis]\n",
    "    y2 = jnp.einsum('ij,ij->i', y, y)[jnp.newaxis, :]\n",
    "    xy = x @ y.T\n",
    "    return jnp.abs(x2 + y2 - 2.0 * xy)\n",
    "\n",
    "np_rng = np.random.default_rng()\n",
    "x_cpu = np.asarray(np_rng.uniform(size=(5000, 4000)), dtype=np.float32)\n",
    "y_cpu = np.asarray(np_rng.uniform(size=(5000, 4000)), dtype=np.float32)\n",
    "\n",
    "x_gpu = jax.device_put(x_cpu).block_until_ready()\n",
    "y_gpu = jax.device_put(y_cpu).block_until_ready()\n",
    "\n",
    "%time eu_cpu = euclidean_distance_cpu(x_cpu, y_cpu)\n",
    "\n",
    "%time eu_jax = euclidean_distance_jax(x_gpu, y_gpu).block_until_ready()"
   ]
  },
  {
   "cell_type": "markdown",
   "id": "3f434633-2e28-498b-b308-1e1a8bd5edbc",
   "metadata": {},
   "source": [
    "#### <mark>Question:</mark> why did we put the `block_until_ready` to time the JAX execution"
   ]
  },
  {
   "cell_type": "markdown",
   "id": "e8b3bd68-e42b-4de3-8f71-f4799927f0c7",
   "metadata": {},
   "source": [
    "## Just in time compilation"
   ]
  },
  {
   "cell_type": "code",
   "execution_count": null,
   "id": "45f96a85-c477-45af-b424-075adac58055",
   "metadata": {},
   "outputs": [],
   "source": [
    "@jax.jit\n",
    "def euclidean_distance_jax_jitted(x, y):\n",
    "    x2 = jnp.einsum('ij,ij->i', x, x)[:, jnp.newaxis]\n",
    "    y2 = jnp.einsum('ij,ij->i', y, y)[jnp.newaxis, :]\n",
    "    xy = x @ y.T\n",
    "    return jnp.abs(x2 + y2 - 2.0 * xy)"
   ]
  },
  {
   "cell_type": "markdown",
   "id": "6f83f89e-ceca-4eae-bf6e-d7c92f5a2036",
   "metadata": {},
   "source": [
    "### <mark>Hands-on:</mark> Measure the execution time of the different function versions"
   ]
  },
  {
   "cell_type": "markdown",
   "id": "6044c92f-51f9-4f7d-86a6-1fc81eccb826",
   "metadata": {},
   "source": [
    "## Jax arrays are immutable\n",
    "\n",
    "#### Mutating an array element is not possible"
   ]
  },
  {
   "cell_type": "code",
   "execution_count": null,
   "id": "0a97206f-4fae-473f-b1d7-6457d1f67c19",
   "metadata": {},
   "outputs": [],
   "source": [
    "A = jnp.array([1., 2., 3., 4.])\n",
    "B = jnp.array([2., 3., 4., 5.])\n",
    "\n",
    "# This is not allowed\n",
    "try:\n",
    "    A[2] = 10.0\n",
    "except TypeError as e:\n",
    "    print(e)"
   ]
  },
  {
   "cell_type": "markdown",
   "id": "4abfa00d-7918-4b41-af12-4b06f4246427",
   "metadata": {},
   "source": [
    "#### Funcionality for *in-place* like operations is provided via the `at` property which retuns a modified copy of the original array"
   ]
  },
  {
   "cell_type": "code",
   "execution_count": null,
   "id": "130a8b3f-b041-4aba-8954-f3cff9ab941a",
   "metadata": {},
   "outputs": [],
   "source": [
    "C = A.at[2].set(10.0)"
   ]
  },
  {
   "cell_type": "code",
   "execution_count": null,
   "id": "34b91aa9",
   "metadata": {},
   "outputs": [],
   "source": [
    "print(A)\n",
    "print(C)"
   ]
  },
  {
   "cell_type": "markdown",
   "id": "bdb8c560",
   "metadata": {},
   "source": [
    "## Random number generation\n",
    "\n",
    "#### Jax does not rely on internal state to generate random numbers, but a key has to be passed to every generation"
   ]
  },
  {
   "cell_type": "code",
   "execution_count": null,
   "id": "2b4e0202",
   "metadata": {},
   "outputs": [],
   "source": [
    "key = jax.random.key(0)\n",
    "x = jax.random.uniform(key, (2, 2))\n",
    "y = jax.random.uniform(key,(2, 2))\n",
    "print(x)\n",
    "print(y)"
   ]
  },
  {
   "cell_type": "markdown",
   "id": "d81027e0-725f-4356-8762-4fe75d600f39",
   "metadata": {},
   "source": [
    "### Every time a new random number generation function is used, a different key has to be used"
   ]
  },
  {
   "cell_type": "code",
   "execution_count": null,
   "id": "18cc3453",
   "metadata": {},
   "outputs": [],
   "source": [
    "key = jax.random.key(0)\n",
    "key, subkey = jax.random.split(key)\n",
    "\n",
    "x = jax.random.uniform(key, (2, 2))\n",
    "y = jax.random.uniform(subkey, (2, 2))\n",
    "print(x)\n",
    "print(y)"
   ]
  },
  {
   "cell_type": "code",
   "execution_count": null,
   "id": "5f0bfe8d-613d-4a2e-9646-2d294edf2243",
   "metadata": {},
   "outputs": [],
   "source": [
    "x = jnp.array([1., 2])"
   ]
  },
  {
   "cell_type": "code",
   "execution_count": null,
   "id": "059dba29-5b95-49b6-9f65-762c9190a2cd",
   "metadata": {},
   "outputs": [],
   "source": [
    "x.devices()"
   ]
  },
  {
   "cell_type": "markdown",
   "id": "7f867954",
   "metadata": {},
   "source": [
    "### Scaled Exponential Linear Unit (SELU) [Klambauer et al., 2017](https://arxiv.org/abs/1706.02515)\n",
    "\n",
    "\n",
    "$$\n",
    "f(x) =  \\left\\{\n",
    "\\begin{array}{ll}\n",
    "      \\lambda x & if & x \\gt 0 \\\\\n",
    "      \\lambda \\alpha (e^x - 1) & if & x \\le 0 \n",
    "\\end{array} \\right.\n",
    "$$\n",
    "\n",
    "$$\n",
    "\\begin{array}{ll}\n",
    "    \\alpha \\simeq 1.67326 \\\\\n",
    "    \\lambda \\simeq 1.050701\n",
    "\\end{array}\n",
    "$$"
   ]
  },
  {
   "cell_type": "code",
   "execution_count": null,
   "id": "71e139f9",
   "metadata": {
    "scrolled": true
   },
   "outputs": [],
   "source": [
    "import matplotlib.pyplot as plt\n",
    "\n",
    "from math import erfc, sqrt, exp, pi, e\n",
    "x_cpu = np.linspace(-10.0, 10.0, 10_000_000)\n",
    "\n",
    "\n",
    "alpha =  - sqrt(2.0 / pi) / (erfc(1 / sqrt(2)) * exp(1/2) - 1)\n",
    "scale = (\n",
    "    (1 - erfc(1 / sqrt(2)) * sqrt(e)) * sqrt(2 * pi) / \n",
    "    sqrt(2 * erfc(sqrt(2)) * e ** 2 + pi * e * erfc(1/sqrt(2)) ** 2 \n",
    "         - 2 * (2 + pi)* erfc(1 / sqrt(2))*sqrt(e) + pi + 2)\n",
    ")\n",
    "\n",
    "def selu_cpu(x, a=alpha, l=scale):\n",
    "    return np.where(x > 0, l * x, l * (a * np.exp(x) - a))\n",
    "\n",
    "s_cpu = selu_cpu(x_cpu)\n",
    "\n",
    "plt.close('all')\n",
    "fig = plt.figure()\n",
    "ax = fig.add_subplot(111)\n",
    "ax.plot(x_cpu, s_cpu, '--');\n",
    "ax.set_title('SELU function', )\n",
    "ax.set_xlabel('x')\n",
    "ax.set_ylabel('y(x)')\n",
    "ax.grid('Both');"
   ]
  },
  {
   "cell_type": "markdown",
   "id": "33374976",
   "metadata": {},
   "source": [
    "### <mark>Hands-on:</mark> Do the same with JAX and measure the performance"
   ]
  },
  {
   "cell_type": "markdown",
   "id": "cdd002b1-98f9-4acb-978a-cae58cb1e9aa",
   "metadata": {},
   "source": [
    "## Automatic Differentiation"
   ]
  },
  {
   "cell_type": "code",
   "execution_count": null,
   "id": "93932e8d-6528-41da-8998-87ec86f7dc53",
   "metadata": {},
   "outputs": [],
   "source": [
    "def fun1(x):\n",
    "    return x ** 2 + 10 * jnp.sin(x) + jnp.exp(x/10)"
   ]
  },
  {
   "cell_type": "code",
   "execution_count": null,
   "id": "65e6d195-1c43-4b52-bf5b-9212392a9577",
   "metadata": {},
   "outputs": [],
   "source": [
    "x = jnp.linspace(-10, 10, 100)"
   ]
  },
  {
   "cell_type": "code",
   "execution_count": null,
   "id": "bcb554fb-8162-44d5-b223-1bc7e99194b4",
   "metadata": {},
   "outputs": [],
   "source": [
    "y = fun1(x)\n",
    "y1 = jax.grad(fun1)\n",
    "y2 = jax.grad(y1)"
   ]
  },
  {
   "cell_type": "code",
   "execution_count": null,
   "id": "42d21cf8-7385-421c-9b39-894d0780d763",
   "metadata": {},
   "outputs": [],
   "source": [
    "plt.plot(x, y)\n",
    "plt.plot(x, jax.vmap(y1)(x))\n",
    "plt.plot(x, jax.vmap(y2)(x))"
   ]
  },
  {
   "cell_type": "markdown",
   "id": "736e21f2-d104-4ccf-8f15-973670c1123d",
   "metadata": {},
   "source": [
    "## Controlling memory allocation"
   ]
  },
  {
   "cell_type": "code",
   "execution_count": null,
   "id": "b37f37eb-bb07-43d0-86fd-82cceff3bfe8",
   "metadata": {},
   "outputs": [],
   "source": [
    "#os.environ['XLA_PYTHON_CLIENT_PREALLOCATE']='false'"
   ]
  },
  {
   "cell_type": "markdown",
   "id": "1930d460-9159-4072-9c06-e6a016755885",
   "metadata": {},
   "source": [
    "## 64-bit Floating Point computations"
   ]
  },
  {
   "cell_type": "code",
   "execution_count": null,
   "id": "4c4ffe30-cf11-4cad-9661-653e10dd40b0",
   "metadata": {},
   "outputs": [],
   "source": [
    "#os.environ['JAX_ENABLE_X64']='True'"
   ]
  }
 ],
 "metadata": {
  "kernelspec": {
   "display_name": "Python 3 (ipykernel)",
   "language": "python",
   "name": "python3"
  },
  "language_info": {
   "codemirror_mode": {
    "name": "ipython",
    "version": 3
   },
   "file_extension": ".py",
   "mimetype": "text/x-python",
   "name": "python",
   "nbconvert_exporter": "python",
   "pygments_lexer": "ipython3",
   "version": "3.12.3"
  }
 },
 "nbformat": 4,
 "nbformat_minor": 5
}
