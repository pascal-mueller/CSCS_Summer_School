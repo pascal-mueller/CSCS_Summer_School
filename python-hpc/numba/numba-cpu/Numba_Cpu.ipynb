{
 "cells": [
  {
   "cell_type": "markdown",
   "metadata": {},
   "source": [
    "# Just-in-time Compilation with [Numba](http://numba.pydata.org/) \n",
    "\n",
    "<div align=\"center\"><img src=\"https://raw.githubusercontent.com/numba/numba/main/docs/_static/numba-blue-icon-rgb.svg\" width=\"300\"/></div>"
   ]
  },
  {
   "cell_type": "markdown",
   "metadata": {},
   "source": [
    "## Numba is a JIT compiler which translates Python code in native machine language\n",
    "\n",
    "* Using special decorators on Python functions Numba compiles them on the fly to machine code using LLVM\n",
    "* Numba is compatible with Numpy arrays which are the basis of many scientific packages in Python\n",
    "* It enables parallelization of machine code so that all the CPU cores are used"
   ]
  },
  {
   "cell_type": "code",
   "execution_count": null,
   "metadata": {},
   "outputs": [],
   "source": [
    "import math\n",
    "import numpy as np\n",
    "import matplotlib.pyplot as plt\n",
    "import numba"
   ]
  },
  {
   "cell_type": "code",
   "execution_count": null,
   "metadata": {},
   "outputs": [],
   "source": [
    "!numba -s"
   ]
  },
  {
   "cell_type": "markdown",
   "metadata": {},
   "source": [
    "### Create a new [Random Generator](https://numpy.org/doc/stable/reference/random/generator.html)"
   ]
  },
  {
   "cell_type": "code",
   "execution_count": null,
   "metadata": {},
   "outputs": [],
   "source": [
    "rng = np.random.default_rng()"
   ]
  },
  {
   "cell_type": "markdown",
   "metadata": {},
   "source": [
    "## Using `numba.jit`\n",
    "\n",
    "Numba offers `jit` which can used to decorate Python functions."
   ]
  },
  {
   "cell_type": "code",
   "execution_count": null,
   "metadata": {},
   "outputs": [],
   "source": [
    "def is_prime(n):\n",
    "    if n <= 1:\n",
    "        raise ArithmeticError(f\"{n}' <= 1\")\n",
    "    if n == 2:\n",
    "        return True\n",
    "    elif n % 2 == 0:\n",
    "        return False\n",
    "    else:\n",
    "        n_sqrt =int(math.sqrt(n))\n",
    "        for i in range(3, n_sqrt + 1, 2):\n",
    "            if n % i == 0:\n",
    "                return False\n",
    "            \n",
    "    return True"
   ]
  },
  {
   "cell_type": "code",
   "execution_count": null,
   "metadata": {},
   "outputs": [],
   "source": [
    "n = rng.integers(2, 10000000) # Get a random integer between 2 and 10000000\n",
    "print(n, is_prime(n))"
   ]
  },
  {
   "cell_type": "code",
   "execution_count": null,
   "metadata": {},
   "outputs": [],
   "source": [
    "%time is_prime(n)"
   ]
  },
  {
   "cell_type": "code",
   "execution_count": null,
   "metadata": {},
   "outputs": [],
   "source": [
    "@numba.jit\n",
    "def is_prime_jitted(n):\n",
    "    if n <= 1:\n",
    "        raise ArithmeticError(f\"{n}' <= 1\")\n",
    "    if n == 2:\n",
    "        return True\n",
    "    elif n % 2 == 0:\n",
    "        return False\n",
    "    else:\n",
    "        n_sqrt = int(math.sqrt(n))\n",
    "        for i in range(3, n_sqrt + 1, 2):\n",
    "            if n % i == 0:\n",
    "                return False\n",
    "\n",
    "    return True"
   ]
  },
  {
   "cell_type": "code",
   "execution_count": null,
   "metadata": {},
   "outputs": [],
   "source": [
    "numbers = rng.integers(2, 100000, size=1000000)\n",
    "%time p1 = [is_prime(n) for n in numbers]\n",
    "%time p2 = [is_prime_jitted(n) for n in numbers]"
   ]
  },
  {
   "cell_type": "markdown",
   "metadata": {},
   "source": [
    "## Using `numba.jit` with `nopython=True`"
   ]
  },
  {
   "cell_type": "code",
   "execution_count": null,
   "metadata": {},
   "outputs": [],
   "source": [
    "@numba.jit(nopython=True)\n",
    "def is_prime_njitted(n):\n",
    "    if n <= 1:\n",
    "        raise ArithmeticError(f\"{n}' <= 1\")\n",
    "    if n == 2:\n",
    "        return True\n",
    "    elif n % 2 == 0:\n",
    "        return False\n",
    "    else:\n",
    "        n_sqrt = int(math.sqrt(n))\n",
    "        for i in range(3, n_sqrt + 1, 2):\n",
    "            if n % i == 0:\n",
    "                return False\n",
    "\n",
    "    return True"
   ]
  },
  {
   "cell_type": "code",
   "execution_count": null,
   "metadata": {},
   "outputs": [],
   "source": [
    "numbers = rng.integers(2, 100000, size=1000000)\n",
    "%time p1 = [is_prime_jitted(n) for n in numbers]\n",
    "%time p2 = [is_prime_njitted(n) for n in numbers]"
   ]
  },
  {
   "cell_type": "markdown",
   "metadata": {},
   "source": [
    "## Using ` @numba.jit(nopython=True)` is equivalent to using ` @numba.njit`"
   ]
  },
  {
   "cell_type": "code",
   "execution_count": null,
   "metadata": {},
   "outputs": [],
   "source": [
    "@numba.njit\n",
    "def is_prime_njitted(n):\n",
    "    if n <= 1:\n",
    "        raise ArithmeticError(f\"{n}' <= 1\")\n",
    "    if n == 2:\n",
    "        return True\n",
    "    elif n % 2 == 0:\n",
    "        return False\n",
    "    else:\n",
    "        n_sqrt = int(math.sqrt(n))\n",
    "        for i in range(3, n_sqrt + 1, 2):\n",
    "            if n % i == 0:\n",
    "                return False\n",
    "\n",
    "    return True"
   ]
  },
  {
   "cell_type": "code",
   "execution_count": null,
   "metadata": {},
   "outputs": [],
   "source": [
    "numbers = rng.integers(2, 100000, size=1)\n",
    "%time p = [is_prime_jitted(n) for n in numbers]\n",
    "%time p = [is_prime_njitted(n) for n in numbers]"
   ]
  },
  {
   "cell_type": "markdown",
   "metadata": {},
   "source": [
    "## Use `cache=True` to cache the compiled function"
   ]
  },
  {
   "cell_type": "code",
   "execution_count": null,
   "metadata": {},
   "outputs": [],
   "source": [
    "import math\n",
    "from numba import njit\n",
    "\n",
    "@njit(cache=True)\n",
    "def is_prime_njitted_cached(n):\n",
    "    if n <= 1:\n",
    "        raise ArithmeticError(f\"{n}' <= 1\")\n",
    "    if n == 2:\n",
    "        return True\n",
    "    elif n % 2 == 0:\n",
    "        return False\n",
    "    else:\n",
    "        n_sqrt = int(math.sqrt(n))\n",
    "        for i in range(3, n_sqrt + 1, 2):\n",
    "            if n % i == 0:\n",
    "                return False\n",
    "\n",
    "    return True"
   ]
  },
  {
   "cell_type": "code",
   "execution_count": null,
   "metadata": {},
   "outputs": [],
   "source": [
    "numbers = rng.integers(2, 100000, size=10000)\n",
    "%time p = [is_prime_njitted(n) for n in numbers]\n",
    "%time p = [is_prime_njitted_cached(n) for n in numbers]"
   ]
  },
  {
   "cell_type": "markdown",
   "metadata": {},
   "source": [
    "## Vector Triad Benchmark Python vs Numpy vs Numba"
   ]
  },
  {
   "cell_type": "code",
   "execution_count": null,
   "metadata": {},
   "outputs": [],
   "source": [
    "from time import perf_counter\n",
    "\n",
    "def vecTriad(a, b, c, d):\n",
    "    for j in range(a.shape[0]):\n",
    "        a[j] = b[j] + c[j] * d[j]\n",
    "        \n",
    "def vecTriadNumpy(a, b, c, d):\n",
    "    a[:] = b + c * d\n",
    "\n",
    "@numba.njit\n",
    "def vecTriadNumba(a, b, c, d):\n",
    "    for j in range(a.shape[0]):\n",
    "        a[j] = b[j] + c[j] * d[j]\n",
    "\n",
    "        \n",
    "# Initialize Vectors\n",
    "n = 100000 # Vector size\n",
    "r = 100 # Iterations\n",
    "a = np.zeros(n, dtype=np.float64)\n",
    "b = np.empty_like(a)\n",
    "b[:] = 1.0\n",
    "c = np.empty_like(a)\n",
    "c[:] = 1.0\n",
    "d = np.empty_like(a)\n",
    "d[:] = 1.0\n",
    "\n",
    "\n",
    "# Python version\n",
    "start = perf_counter()\n",
    "\n",
    "for i in range(r):\n",
    "    vecTriad(a, b, c, d)\n",
    "        \n",
    "end = perf_counter()\n",
    "mflops = 2.0 * r * n / ((end - start) * 1.0e6) \n",
    "print(f'Python: Mflops/sec: {mflops}')\n",
    "\n",
    "\n",
    "# Numpy version\n",
    "start = perf_counter()\n",
    "\n",
    "for i in range(r):\n",
    "    vecTriadNumpy(a, b, c, d)\n",
    "        \n",
    "end = perf_counter()\n",
    "mflops = 2.0 * r * n / ((end - start) * 1.0e6) \n",
    "print(f'Numpy: Mflops/sec: {mflops}')\n",
    "\n",
    "\n",
    "# Numba version\n",
    "vecTriadNumba(a, b, c, d) # Run once to avoid measuring the compilation overhead\n",
    "\n",
    "start = perf_counter()\n",
    "\n",
    "for i in range(r):\n",
    "    vecTriadNumba(a, b, c, d)\n",
    "        \n",
    "end = perf_counter()\n",
    "mflops = 2.0 * r * n / ((end - start) * 1.0e6) \n",
    "print(f'Numba: Mflops/sec: {mflops}')"
   ]
  },
  {
   "cell_type": "code",
   "execution_count": null,
   "metadata": {},
   "outputs": [],
   "source": [
    "vecTriadNumba.inspect_asm()"
   ]
  },
  {
   "cell_type": "markdown",
   "metadata": {},
   "source": [
    "## Eager compilation using function signatures"
   ]
  },
  {
   "cell_type": "markdown",
   "metadata": {},
   "source": [
    "### Compilation overhead can be avoided by \"informing\" Numba of the supported argument/return types "
   ]
  },
  {
   "cell_type": "code",
   "execution_count": null,
   "metadata": {},
   "outputs": [],
   "source": [
    "import math\n",
    "from numba import njit\n",
    "\n",
    "@njit(['boolean(int64)', 'boolean(int32)'])\n",
    "def is_prime_njitted_eager(n):\n",
    "    if n <= 1:\n",
    "        raise ArithmeticError(f\"{n}' <= 1\")\n",
    "    if n == 2:\n",
    "        return True\n",
    "    elif n % 2 == 0:\n",
    "        return False\n",
    "    else:\n",
    "        n_sqrt = int(math.sqrt(n))\n",
    "        for i in range(3, n_sqrt + 1, 2):\n",
    "            if n % i == 0:\n",
    "                return False\n",
    "\n",
    "    return True"
   ]
  },
  {
   "cell_type": "code",
   "execution_count": null,
   "metadata": {},
   "outputs": [],
   "source": [
    "numbers = rng.integers(2, 1000000, size=1000)\n",
    "\n",
    "# Run twice aft\n",
    "%time p1 = [is_prime_njitted_eager(n) for n in numbers]\n",
    "%time p2 = [is_prime_njitted_eager(n) for n in numbers]"
   ]
  },
  {
   "cell_type": "markdown",
   "metadata": {},
   "source": [
    "### Using eager compilation, we remove the \"freedom\" from Numba to compile on the fly for unsupported types"
   ]
  },
  {
   "cell_type": "code",
   "execution_count": null,
   "metadata": {},
   "outputs": [],
   "source": [
    "p1 = [is_prime_njitted_eager(n) for n in numbers.astype(np.int16)]\n",
    "p2 = [is_prime_njitted(n) for n in numbers.astype(np.float32)]"
   ]
  },
  {
   "cell_type": "code",
   "execution_count": null,
   "metadata": {},
   "outputs": [],
   "source": [
    "is_prime_njitted_eager.nopython_signatures"
   ]
  },
  {
   "cell_type": "markdown",
   "metadata": {},
   "source": [
    "#### The following demonstrates how Numba compilers different versions of the same function depending on the types of the arguments"
   ]
  },
  {
   "cell_type": "code",
   "execution_count": null,
   "metadata": {},
   "outputs": [],
   "source": [
    "from numba import njit\n",
    "\n",
    "@njit\n",
    "def myfunc(n):\n",
    "    return n // 2"
   ]
  },
  {
   "cell_type": "code",
   "execution_count": null,
   "metadata": {},
   "outputs": [],
   "source": [
    "myfunc(2.0);\n",
    "myfunc(1);"
   ]
  },
  {
   "cell_type": "code",
   "execution_count": null,
   "metadata": {},
   "outputs": [],
   "source": [
    "myfunc.nopython_signatures"
   ]
  },
  {
   "cell_type": "markdown",
   "metadata": {},
   "source": [
    "## Calculating and plotting the [Mandelbrot set](https://en.wikipedia.org/wiki/Mandelbrot_set)"
   ]
  },
  {
   "cell_type": "code",
   "execution_count": null,
   "metadata": {},
   "outputs": [],
   "source": [
    "X, Y = np.meshgrid(np.linspace(-2.0, 1, 1000), np.linspace(-1.0, 1.0, 1000))\n",
    "\n",
    "def mandelbrot(X, Y, radius2, itermax):\n",
    "    mandel = np.empty(shape=X.shape, dtype=np.int32)\n",
    "    for i in range(X.shape[0]):\n",
    "        for j in range(X.shape[1]):\n",
    "            it = 0\n",
    "            cx = X[i, j]\n",
    "            cy = Y[i, j]\n",
    "            x = 0.0\n",
    "            y = 0.0\n",
    "            while x * x + y * y < radius2 and it < itermax:\n",
    "                x, y = x * x - y * y + cx, 2.0 * x * y + cy\n",
    "                it += 1\n",
    "            mandel[i, j] = it\n",
    "            \n",
    "    return mandel"
   ]
  },
  {
   "cell_type": "code",
   "execution_count": null,
   "metadata": {},
   "outputs": [],
   "source": [
    "fig = plt.figure(figsize=(15, 10))\n",
    "ax = fig.add_subplot(111)\n",
    "\n",
    "%time m = mandelbrot(X, Y, 4.0, 100)\n",
    "    \n",
    "ax.imshow(np.log(1 + m), extent=[-2.0, 1, -1.0, 1.0]);\n",
    "ax.set_aspect('equal')\n",
    "ax.set_ylabel('Im[c]')\n",
    "ax.set_xlabel('Re[c]');"
   ]
  },
  {
   "cell_type": "code",
   "execution_count": null,
   "metadata": {},
   "outputs": [],
   "source": [
    "X, Y = np.meshgrid(np.linspace(-2.0, 1, 10000), np.linspace(-1.0, 1.0, 10000))\n",
    "\n",
    "@njit\n",
    "def mandelbrot_jitted(X, Y, radius2, itermax):\n",
    "    mandel = np.empty(shape=X.shape, dtype=np.int32)\n",
    "    for i in range(X.shape[0]):\n",
    "        for j in range(X.shape[1]):\n",
    "            it = 0\n",
    "            cx = X[i, j]\n",
    "            cy = Y[i, j]\n",
    "            x = 0.0\n",
    "            y = 0.0\n",
    "            while x * x + y * y < radius2 and it < itermax:\n",
    "                x, y = x * x - y * y + cx, 2.0 * x * y + cy\n",
    "                it += 1\n",
    "            mandel[i, j] = it\n",
    "            \n",
    "    return mandel"
   ]
  },
  {
   "cell_type": "code",
   "execution_count": null,
   "metadata": {},
   "outputs": [],
   "source": [
    "m = mandelbrot_jitted(X, Y, 4.0, 100) # Warmup \n",
    "%time m = mandelbrot_jitted(X, Y, 4.0, 100)\n",
    "    \n",
    "ax.imshow(np.log(1 + m), extent=[-2.0, 1, -1.0, 1.0]);\n",
    "ax.set_aspect('equal')\n",
    "ax.set_ylabel('Im[c]')\n",
    "ax.set_xlabel('Re[c]');"
   ]
  },
  {
   "cell_type": "markdown",
   "metadata": {},
   "source": [
    "### Loops can be parallelized by a combination of `parallel=True` in the `numba.njit` decorator and `numba.prange`"
   ]
  },
  {
   "cell_type": "code",
   "execution_count": null,
   "metadata": {},
   "outputs": [],
   "source": [
    "@numba.njit(parallel=True)\n",
    "def mandelbrot_parallel_jitted(X, Y, radius2, itermax):\n",
    "    mandel = np.empty(shape=X.shape, dtype=np.int32)\n",
    "    for i in numba.prange(X.shape[0]):\n",
    "        for j in numba.prange(X.shape[1]):\n",
    "            it = 0\n",
    "            cx = X[i, j]\n",
    "            cy = Y[i, j]\n",
    "            x = cx\n",
    "            y = cy\n",
    "            while x * x + y * y < radius2 and it < itermax:\n",
    "                x, y = x * x - y * y + cx, 2.0 * x * y + cy\n",
    "                it += 1\n",
    "            mandel[i, j] = it\n",
    "            \n",
    "    return mandel"
   ]
  },
  {
   "cell_type": "code",
   "execution_count": null,
   "metadata": {},
   "outputs": [],
   "source": [
    "fig = plt.figure(figsize=(15, 10))\n",
    "ax = fig.add_subplot(111)\n",
    "\n",
    "m = mandelbrot_parallel_jitted(X, Y, 4.0, 100) # Warmup\n",
    "%time m = mandelbrot_parallel_jitted(X, Y, 4.0, 100)\n",
    "    \n",
    "ax.imshow(np.log(1 + m), extent=[-2.0, 1, -1.0, 1.0]);\n",
    "ax.set_aspect('equal')\n",
    "ax.set_ylabel('Im[c]')\n",
    "ax.set_xlabel('Re[c]');"
   ]
  },
  {
   "cell_type": "markdown",
   "metadata": {},
   "source": [
    "#### Getting parallelization information"
   ]
  },
  {
   "cell_type": "code",
   "execution_count": null,
   "metadata": {},
   "outputs": [],
   "source": [
    "mandelbrot_parallel_jitted.parallel_diagnostics(level=3)"
   ]
  },
  {
   "cell_type": "markdown",
   "metadata": {},
   "source": [
    "### Controlling the number of parallel threads\n",
    "\n",
    "#### Numba will use `numba.config.NUMBA_NUM_THREADS` threads for parallel computation. The value can be changed using `numba.set_numthreads` function"
   ]
  },
  {
   "cell_type": "code",
   "execution_count": null,
   "metadata": {},
   "outputs": [],
   "source": [
    "print(f'The default number of threads is: {numba.config.NUMBA_NUM_THREADS}')"
   ]
  },
  {
   "cell_type": "markdown",
   "metadata": {},
   "source": [
    "#### <mark>Exercise</mark> Test and time the parallelized Mandelbrot set calculation using different numbers of theads"
   ]
  },
  {
   "cell_type": "markdown",
   "metadata": {},
   "source": [
    "## Creating `ufuncs` using `numba.vectorize`"
   ]
  },
  {
   "cell_type": "code",
   "execution_count": null,
   "metadata": {},
   "outputs": [],
   "source": [
    "from math import sin\n",
    "from numba import float64, int64\n",
    "\n",
    "def my_numpy_sin(a, b):\n",
    "    return np.sin(a) + np.sin(b)\n",
    "\n",
    "@np.vectorize\n",
    "def my_sin(a, b):\n",
    "    return sin(a) + sin(b)\n",
    "\n",
    "@numba.vectorize([float64(float64, float64), int64(int64, int64)], target='parallel')\n",
    "def my_sin_numba(a, b):\n",
    "    return np.sin(a) + np.sin(b)"
   ]
  },
  {
   "cell_type": "code",
   "execution_count": null,
   "metadata": {},
   "outputs": [],
   "source": [
    "x = rng.integers(0, 100, size=90000000)\n",
    "y = rng.integers(0, 100, size=90000000)\n",
    "\n",
    "%time _ = my_numpy_sin(x, y)\n",
    "%time _ = my_sin(x, y)\n",
    "%time _ = my_sin_numba(x, y)"
   ]
  },
  {
   "cell_type": "markdown",
   "metadata": {},
   "source": [
    "### Vectorize the testing of prime numbers "
   ]
  },
  {
   "cell_type": "code",
   "execution_count": null,
   "metadata": {},
   "outputs": [],
   "source": [
    "@numba.vectorize('boolean(int64)')\n",
    "def is_prime_v(n):\n",
    "    if n <= 1:\n",
    "        raise ArithmeticError(f\"'{n}' <= 1\")\n",
    "    if n == 2:\n",
    "        return True\n",
    "    elif n % 2 == 0:\n",
    "        return False\n",
    "    else:\n",
    "        n_sqrt = int(math.sqrt(n))\n",
    "        for i in range(3, n_sqrt + 1, 2):\n",
    "            if n % i == 0:\n",
    "                return False\n",
    "            \n",
    "    return True"
   ]
  },
  {
   "cell_type": "code",
   "execution_count": null,
   "metadata": {},
   "outputs": [],
   "source": [
    "numbers = rng.integers(2, 10000000000, size=100000)\n",
    "%time p = is_prime_v(numbers)"
   ]
  },
  {
   "cell_type": "markdown",
   "metadata": {},
   "source": [
    "### Parallelize the vectorized function"
   ]
  },
  {
   "cell_type": "code",
   "execution_count": null,
   "metadata": {},
   "outputs": [],
   "source": [
    "@numba.vectorize(['boolean(int64)', 'boolean(int32)'],\n",
    "                 target='parallel')\n",
    "def is_prime_vp(n):\n",
    "    if n <= 1:\n",
    "        raise ArithmeticError(f\"'{n}' <= 1\")\n",
    "    if n == 2:\n",
    "        return True\n",
    "    elif n % 2 == 0:\n",
    "        return False\n",
    "    else:\n",
    "        n_sqrt = int(math.sqrt(n))\n",
    "        for i in range(3, n_sqrt + 1, 2):\n",
    "            if n % i == 0:\n",
    "                return False\n",
    "            \n",
    "    return True"
   ]
  },
  {
   "cell_type": "code",
   "execution_count": null,
   "metadata": {},
   "outputs": [],
   "source": [
    "numbers = rng.integers(2, 10000000000, dtype=np.int64, size=1000000)\n",
    "%time p1 = is_prime_v(numbers)\n",
    "%time p2 = is_prime_vp(numbers)"
   ]
  },
  {
   "cell_type": "code",
   "execution_count": null,
   "metadata": {
    "scrolled": true
   },
   "outputs": [],
   "source": [
    "# Print the largest primes from to 1 and 10 millions\n",
    "numbers = np.arange(1000000, 10000001, dtype=np.int32)\n",
    "%time p1 = is_prime_vp(numbers)\n",
    "primes = numbers[p1]\n",
    "\n",
    "for n in primes[-10:]:\n",
    "    print(n)"
   ]
  }
 ],
 "metadata": {
  "kernelspec": {
   "display_name": "Python 3 (ipykernel)",
   "language": "python",
   "name": "python3"
  },
  "language_info": {
   "codemirror_mode": {
    "name": "ipython",
    "version": 3
   },
   "file_extension": ".py",
   "mimetype": "text/x-python",
   "name": "python",
   "nbconvert_exporter": "python",
   "pygments_lexer": "ipython3",
   "version": "3.11.4"
  }
 },
 "nbformat": 4,
 "nbformat_minor": 4
}
